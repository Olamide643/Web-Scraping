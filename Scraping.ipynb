{
 "cells": [
  {
   "cell_type": "code",
   "execution_count": 1,
   "id": "f02d1057",
   "metadata": {},
   "outputs": [],
   "source": [
    "# Importing the Selenium and\n",
    "from selenium import webdriver  \n",
    "from selenium.webdriver.common.by import By\n",
    "import time"
   ]
  },
  {
   "cell_type": "code",
   "execution_count": 6,
   "id": "706bba47",
   "metadata": {},
   "outputs": [
    {
     "name": "stderr",
     "output_type": "stream",
     "text": [
      "C:\\Users\\olamide\\AppData\\Local\\Programs\\Python\\Python37\\lib\\site-packages\\ipykernel_launcher.py:2: DeprecationWarning: executable_path has been deprecated, please pass in a Service object\n",
      "  \n"
     ]
    }
   ],
   "source": [
    "# Setting the driver \n",
    "driver = webdriver.Chrome(r\"C:\\Users\\olamide\\Downloads\\chromedriver.exe\")"
   ]
  },
  {
   "cell_type": "code",
   "execution_count": 7,
   "id": "516088d3",
   "metadata": {},
   "outputs": [],
   "source": [
    "url = \"https://www.linkedin.com/company/central-insurance-companie/posts/?feedView=all\"\n",
    "driver.get(url)            "
   ]
  },
  {
   "cell_type": "code",
   "execution_count": 32,
   "id": "ee5d0063",
   "metadata": {},
   "outputs": [
    {
     "name": "stdout",
     "output_type": "stream",
     "text": [
      "None None\n"
     ]
    }
   ],
   "source": [
    "#Signing into the user account \n",
    "import os\n",
    "user = os.environ.get(\"LinkedInUser\",None)\n",
    "passwd = os.environ.get(\"LinkedInPass\",None)\n",
    "\n",
    "\n",
    "username=driver.find_element(by=By.ID, value=\"username\")\n",
    "password = driver.find_element(by=By.ID, value=\"password\")\n",
    "login_button  = driver.find_element(by=By.CLASS_NAME, value=\"login__form_action_container\")\n",
    "\n",
    "username.clear()\n",
    "password.clear()\n",
    "username.send_keys(user);\n",
    "password.send_keys(passwd);\n",
    "login_button.submit()"
   ]
  },
  {
   "cell_type": "code",
   "execution_count": 53,
   "id": "72fa383b",
   "metadata": {},
   "outputs": [
    {
     "name": "stdout",
     "output_type": "stream",
     "text": [
      "{'Home': 'https://www.linkedin.com/company/central-insurance-companie/', 'About': 'https://www.linkedin.com/company/central-insurance-companie/about/', 'Posts': 'https://www.linkedin.com/company/central-insurance-companie/posts/?feedView=', 'Jobs': 'https://www.linkedin.com/company/central-insurance-companie/jobs/', 'People': 'https://www.linkedin.com/company/central-insurance-companie/people/', 'Videos': 'https://www.linkedin.com/company/central-insurance-companie/videos/'}\n"
     ]
    }
   ],
   "source": [
    "# Get the comapny's navigations links \n",
    "find_nagivations_links = driver.find_elements(by = By.XPATH, value='//div[@id=\"ember39\"]/nav/ul/li/a')\n",
    "\n",
    "links_descript = {a.get_attribute('text').strip():a.get_attribute('href') for a in test}\n",
    "\n",
    "links_descript"
   ]
  },
  {
   "cell_type": "code",
   "execution_count": 78,
   "id": "abcd0137",
   "metadata": {
    "scrolled": true
   },
   "outputs": [
    {
     "name": "stdout",
     "output_type": "stream",
     "text": [
      "Since our beginning in 1876, Central Insurance has evolved into a successful property and casualty group operating on a strong foundation of core values including Integrity in the way we operate our business; Relationships we develop working as a team and sharing in each others’ successes; and Excellence achieved by never compromising on quality, providing superior performance, and pursuing continual improvements. Our commitment to excellence is reflected in our combined assets totaling over $1 billion and our A.M. Best rating of \"A\" Excellent. Central's companion stock company, All America Insurance Company, was established in April 1961 as an answer to the competitive pressures created by companies deviating from manual rates. Today, All America is a wholly-owned stock affiliate.\n"
     ]
    },
    {
     "name": "stderr",
     "output_type": "stream",
     "text": [
      "C:\\Users\\olamide\\AppData\\Local\\Programs\\Python\\Python37\\lib\\site-packages\\selenium\\webdriver\\remote\\webelement.py:341: UserWarning: find_element_by_tag_name is deprecated. Please use find_element(by=By.TAG_NAME, value=name) instead\n",
      "  warnings.warn(\"find_element_by_tag_name is deprecated. Please use find_element(by=By.TAG_NAME, value=name) instead\")\n"
     ]
    }
   ],
   "source": [
    "# Navigate to the About Page of the company \n",
    "driver.get(links_descript['About'])\n",
    "\n",
    "# Get all the necccesary information from the abbout page \n",
    "about_section = driver.find_element(by = By.XPATH, value='//div[@id=\"ember50\"]/section')\n",
    "\n",
    "\n",
    "overview = about_section.find_element(by=By.TAG_NAME, value = 'p').text"
   ]
  },
  {
   "cell_type": "code",
   "execution_count": 101,
   "id": "3d40a27c",
   "metadata": {},
   "outputs": [
    {
     "ename": "StaleElementReferenceException",
     "evalue": "Message: stale element reference: element is not attached to the page document\n  (Session info: chrome=105.0.5195.102)\nStacktrace:\nBacktrace:\n\tOrdinal0 [0x0066DF13+2219795]\n\tOrdinal0 [0x00602841+1779777]\n\tOrdinal0 [0x0051423D+803389]\n\tOrdinal0 [0x00516D04+814340]\n\tOrdinal0 [0x00516BC2+814018]\n\tOrdinal0 [0x00516E50+814672]\n\tOrdinal0 [0x00542D4F+994639]\n\tOrdinal0 [0x005431EB+995819]\n\tOrdinal0 [0x00539981+956801]\n\tOrdinal0 [0x0055E844+1108036]\n\tOrdinal0 [0x005394B4+955572]\n\tOrdinal0 [0x0055EA14+1108500]\n\tOrdinal0 [0x0056F192+1175954]\n\tOrdinal0 [0x0055E616+1107478]\n\tOrdinal0 [0x00537F89+950153]\n\tOrdinal0 [0x00538F56+954198]\n\tGetHandleVerifier [0x00962CB2+3040210]\n\tGetHandleVerifier [0x00952BB4+2974420]\n\tGetHandleVerifier [0x00706A0A+565546]\n\tGetHandleVerifier [0x00705680+560544]\n\tOrdinal0 [0x00609A5C+1808988]\n\tOrdinal0 [0x0060E3A8+1827752]\n\tOrdinal0 [0x0060E495+1827989]\n\tOrdinal0 [0x006180A4+1867940]\n\tBaseThreadInitThunk [0x76A1FA29+25]\n\tRtlGetAppContainerNamedObjectPath [0x77E27A9E+286]\n\tRtlGetAppContainerNamedObjectPath [0x77E27A6E+238]\n",
     "output_type": "error",
     "traceback": [
      "\u001b[1;31m---------------------------------------------------------------------------\u001b[0m",
      "\u001b[1;31mStaleElementReferenceException\u001b[0m            Traceback (most recent call last)",
      "\u001b[1;32m~\\AppData\\Local\\Temp\\ipykernel_9584\\4034233877.py\u001b[0m in \u001b[0;36m<module>\u001b[1;34m\u001b[0m\n\u001b[1;32m----> 1\u001b[1;33m \u001b[0mwebsite\u001b[0m \u001b[1;33m=\u001b[0m \u001b[0mabout_section\u001b[0m\u001b[1;33m.\u001b[0m\u001b[0mfind_elements\u001b[0m\u001b[1;33m(\u001b[0m\u001b[0mby\u001b[0m\u001b[1;33m=\u001b[0m\u001b[0mBy\u001b[0m\u001b[1;33m.\u001b[0m\u001b[0mTAG_NAME\u001b[0m\u001b[1;33m,\u001b[0m \u001b[0mvalue\u001b[0m \u001b[1;33m=\u001b[0m \u001b[1;34m'dd'\u001b[0m\u001b[1;33m)\u001b[0m\u001b[1;33m\u001b[0m\u001b[1;33m\u001b[0m\u001b[0m\n\u001b[0m\u001b[0;32m      2\u001b[0m \u001b[0mwebsite\u001b[0m\u001b[1;33m[\u001b[0m\u001b[1;36m0\u001b[0m\u001b[1;33m]\u001b[0m\u001b[1;33m.\u001b[0m\u001b[0mfind_elements\u001b[0m\u001b[1;33m(\u001b[0m\u001b[0mby\u001b[0m\u001b[1;33m=\u001b[0m\u001b[0mBy\u001b[0m\u001b[1;33m.\u001b[0m\u001b[0mTAG_NAME\u001b[0m\u001b[1;33m,\u001b[0m \u001b[0mvalue\u001b[0m \u001b[1;33m=\u001b[0m \u001b[1;34m'a'\u001b[0m\u001b[1;33m)\u001b[0m\u001b[1;33m\u001b[0m\u001b[1;33m\u001b[0m\u001b[0m\n\u001b[0;32m      3\u001b[0m \u001b[1;31m# phone =\u001b[0m\u001b[1;33m\u001b[0m\u001b[1;33m\u001b[0m\u001b[1;33m\u001b[0m\u001b[0m\n\u001b[0;32m      4\u001b[0m \u001b[1;31m# company_size =\u001b[0m\u001b[1;33m\u001b[0m\u001b[1;33m\u001b[0m\u001b[1;33m\u001b[0m\u001b[0m\n\u001b[0;32m      5\u001b[0m \u001b[1;31m# industry =\u001b[0m\u001b[1;33m\u001b[0m\u001b[1;33m\u001b[0m\u001b[1;33m\u001b[0m\u001b[0m\n",
      "\u001b[1;32m~\\AppData\\Local\\Programs\\Python\\Python37\\lib\\site-packages\\selenium\\webdriver\\remote\\webelement.py\u001b[0m in \u001b[0;36mfind_elements\u001b[1;34m(self, by, value)\u001b[0m\n\u001b[0;32m    760\u001b[0m \u001b[1;33m\u001b[0m\u001b[0m\n\u001b[0;32m    761\u001b[0m         return self._execute(Command.FIND_CHILD_ELEMENTS,\n\u001b[1;32m--> 762\u001b[1;33m                              {\"using\": by, \"value\": value})['value']\n\u001b[0m\u001b[0;32m    763\u001b[0m \u001b[1;33m\u001b[0m\u001b[0m\n\u001b[0;32m    764\u001b[0m     \u001b[1;32mdef\u001b[0m \u001b[0m__hash__\u001b[0m\u001b[1;33m(\u001b[0m\u001b[0mself\u001b[0m\u001b[1;33m)\u001b[0m\u001b[1;33m:\u001b[0m\u001b[1;33m\u001b[0m\u001b[1;33m\u001b[0m\u001b[0m\n",
      "\u001b[1;32m~\\AppData\\Local\\Programs\\Python\\Python37\\lib\\site-packages\\selenium\\webdriver\\remote\\webelement.py\u001b[0m in \u001b[0;36m_execute\u001b[1;34m(self, command, params)\u001b[0m\n\u001b[0;32m    708\u001b[0m             \u001b[0mparams\u001b[0m \u001b[1;33m=\u001b[0m \u001b[1;33m{\u001b[0m\u001b[1;33m}\u001b[0m\u001b[1;33m\u001b[0m\u001b[1;33m\u001b[0m\u001b[0m\n\u001b[0;32m    709\u001b[0m         \u001b[0mparams\u001b[0m\u001b[1;33m[\u001b[0m\u001b[1;34m'id'\u001b[0m\u001b[1;33m]\u001b[0m \u001b[1;33m=\u001b[0m \u001b[0mself\u001b[0m\u001b[1;33m.\u001b[0m\u001b[0m_id\u001b[0m\u001b[1;33m\u001b[0m\u001b[1;33m\u001b[0m\u001b[0m\n\u001b[1;32m--> 710\u001b[1;33m         \u001b[1;32mreturn\u001b[0m \u001b[0mself\u001b[0m\u001b[1;33m.\u001b[0m\u001b[0m_parent\u001b[0m\u001b[1;33m.\u001b[0m\u001b[0mexecute\u001b[0m\u001b[1;33m(\u001b[0m\u001b[0mcommand\u001b[0m\u001b[1;33m,\u001b[0m \u001b[0mparams\u001b[0m\u001b[1;33m)\u001b[0m\u001b[1;33m\u001b[0m\u001b[1;33m\u001b[0m\u001b[0m\n\u001b[0m\u001b[0;32m    711\u001b[0m \u001b[1;33m\u001b[0m\u001b[0m\n\u001b[0;32m    712\u001b[0m     \u001b[1;32mdef\u001b[0m \u001b[0mfind_element\u001b[0m\u001b[1;33m(\u001b[0m\u001b[0mself\u001b[0m\u001b[1;33m,\u001b[0m \u001b[0mby\u001b[0m\u001b[1;33m=\u001b[0m\u001b[0mBy\u001b[0m\u001b[1;33m.\u001b[0m\u001b[0mID\u001b[0m\u001b[1;33m,\u001b[0m \u001b[0mvalue\u001b[0m\u001b[1;33m=\u001b[0m\u001b[1;32mNone\u001b[0m\u001b[1;33m)\u001b[0m\u001b[1;33m:\u001b[0m\u001b[1;33m\u001b[0m\u001b[1;33m\u001b[0m\u001b[0m\n",
      "\u001b[1;32m~\\AppData\\Local\\Programs\\Python\\Python37\\lib\\site-packages\\selenium\\webdriver\\remote\\webdriver.py\u001b[0m in \u001b[0;36mexecute\u001b[1;34m(self, driver_command, params)\u001b[0m\n\u001b[0;32m    423\u001b[0m         \u001b[0mresponse\u001b[0m \u001b[1;33m=\u001b[0m \u001b[0mself\u001b[0m\u001b[1;33m.\u001b[0m\u001b[0mcommand_executor\u001b[0m\u001b[1;33m.\u001b[0m\u001b[0mexecute\u001b[0m\u001b[1;33m(\u001b[0m\u001b[0mdriver_command\u001b[0m\u001b[1;33m,\u001b[0m \u001b[0mparams\u001b[0m\u001b[1;33m)\u001b[0m\u001b[1;33m\u001b[0m\u001b[1;33m\u001b[0m\u001b[0m\n\u001b[0;32m    424\u001b[0m         \u001b[1;32mif\u001b[0m \u001b[0mresponse\u001b[0m\u001b[1;33m:\u001b[0m\u001b[1;33m\u001b[0m\u001b[1;33m\u001b[0m\u001b[0m\n\u001b[1;32m--> 425\u001b[1;33m             \u001b[0mself\u001b[0m\u001b[1;33m.\u001b[0m\u001b[0merror_handler\u001b[0m\u001b[1;33m.\u001b[0m\u001b[0mcheck_response\u001b[0m\u001b[1;33m(\u001b[0m\u001b[0mresponse\u001b[0m\u001b[1;33m)\u001b[0m\u001b[1;33m\u001b[0m\u001b[1;33m\u001b[0m\u001b[0m\n\u001b[0m\u001b[0;32m    426\u001b[0m             response['value'] = self._unwrap_value(\n\u001b[0;32m    427\u001b[0m                 response.get('value', None))\n",
      "\u001b[1;32m~\\AppData\\Local\\Programs\\Python\\Python37\\lib\\site-packages\\selenium\\webdriver\\remote\\errorhandler.py\u001b[0m in \u001b[0;36mcheck_response\u001b[1;34m(self, response)\u001b[0m\n\u001b[0;32m    245\u001b[0m                 \u001b[0malert_text\u001b[0m \u001b[1;33m=\u001b[0m \u001b[0mvalue\u001b[0m\u001b[1;33m[\u001b[0m\u001b[1;34m'alert'\u001b[0m\u001b[1;33m]\u001b[0m\u001b[1;33m.\u001b[0m\u001b[0mget\u001b[0m\u001b[1;33m(\u001b[0m\u001b[1;34m'text'\u001b[0m\u001b[1;33m)\u001b[0m\u001b[1;33m\u001b[0m\u001b[1;33m\u001b[0m\u001b[0m\n\u001b[0;32m    246\u001b[0m             \u001b[1;32mraise\u001b[0m \u001b[0mexception_class\u001b[0m\u001b[1;33m(\u001b[0m\u001b[0mmessage\u001b[0m\u001b[1;33m,\u001b[0m \u001b[0mscreen\u001b[0m\u001b[1;33m,\u001b[0m \u001b[0mstacktrace\u001b[0m\u001b[1;33m,\u001b[0m \u001b[0malert_text\u001b[0m\u001b[1;33m)\u001b[0m  \u001b[1;31m# type: ignore[call-arg]  # mypy is not smart enough here\u001b[0m\u001b[1;33m\u001b[0m\u001b[1;33m\u001b[0m\u001b[0m\n\u001b[1;32m--> 247\u001b[1;33m         \u001b[1;32mraise\u001b[0m \u001b[0mexception_class\u001b[0m\u001b[1;33m(\u001b[0m\u001b[0mmessage\u001b[0m\u001b[1;33m,\u001b[0m \u001b[0mscreen\u001b[0m\u001b[1;33m,\u001b[0m \u001b[0mstacktrace\u001b[0m\u001b[1;33m)\u001b[0m\u001b[1;33m\u001b[0m\u001b[1;33m\u001b[0m\u001b[0m\n\u001b[0m\u001b[0;32m    248\u001b[0m \u001b[1;33m\u001b[0m\u001b[0m\n\u001b[0;32m    249\u001b[0m     \u001b[1;32mdef\u001b[0m \u001b[0m_value_or_default\u001b[0m\u001b[1;33m(\u001b[0m\u001b[0mself\u001b[0m\u001b[1;33m,\u001b[0m \u001b[0mobj\u001b[0m\u001b[1;33m:\u001b[0m \u001b[0mMapping\u001b[0m\u001b[1;33m[\u001b[0m\u001b[0m_KT\u001b[0m\u001b[1;33m,\u001b[0m \u001b[0m_VT\u001b[0m\u001b[1;33m]\u001b[0m\u001b[1;33m,\u001b[0m \u001b[0mkey\u001b[0m\u001b[1;33m:\u001b[0m \u001b[0m_KT\u001b[0m\u001b[1;33m,\u001b[0m \u001b[0mdefault\u001b[0m\u001b[1;33m:\u001b[0m \u001b[0m_VT\u001b[0m\u001b[1;33m)\u001b[0m \u001b[1;33m->\u001b[0m \u001b[0m_VT\u001b[0m\u001b[1;33m:\u001b[0m\u001b[1;33m\u001b[0m\u001b[1;33m\u001b[0m\u001b[0m\n",
      "\u001b[1;31mStaleElementReferenceException\u001b[0m: Message: stale element reference: element is not attached to the page document\n  (Session info: chrome=105.0.5195.102)\nStacktrace:\nBacktrace:\n\tOrdinal0 [0x0066DF13+2219795]\n\tOrdinal0 [0x00602841+1779777]\n\tOrdinal0 [0x0051423D+803389]\n\tOrdinal0 [0x00516D04+814340]\n\tOrdinal0 [0x00516BC2+814018]\n\tOrdinal0 [0x00516E50+814672]\n\tOrdinal0 [0x00542D4F+994639]\n\tOrdinal0 [0x005431EB+995819]\n\tOrdinal0 [0x00539981+956801]\n\tOrdinal0 [0x0055E844+1108036]\n\tOrdinal0 [0x005394B4+955572]\n\tOrdinal0 [0x0055EA14+1108500]\n\tOrdinal0 [0x0056F192+1175954]\n\tOrdinal0 [0x0055E616+1107478]\n\tOrdinal0 [0x00537F89+950153]\n\tOrdinal0 [0x00538F56+954198]\n\tGetHandleVerifier [0x00962CB2+3040210]\n\tGetHandleVerifier [0x00952BB4+2974420]\n\tGetHandleVerifier [0x00706A0A+565546]\n\tGetHandleVerifier [0x00705680+560544]\n\tOrdinal0 [0x00609A5C+1808988]\n\tOrdinal0 [0x0060E3A8+1827752]\n\tOrdinal0 [0x0060E495+1827989]\n\tOrdinal0 [0x006180A4+1867940]\n\tBaseThreadInitThunk [0x76A1FA29+25]\n\tRtlGetAppContainerNamedObjectPath [0x77E27A9E+286]\n\tRtlGetAppContainerNamedObjectPath [0x77E27A6E+238]\n"
     ]
    }
   ],
   "source": [
    "website = about_section.find_elements(by=By.TAG_NAME, value = 'dd')\n",
    "website[0].find_elements(by=By.TAG_NAME, value = 'a')\n",
    "# phone =\n",
    "# company_size =\n",
    "# industry =\n",
    "# headquarters =\n",
    "# founded \n",
    "# specialities = "
   ]
  },
  {
   "cell_type": "code",
   "execution_count": 86,
   "id": "e1fed307",
   "metadata": {},
   "outputs": [
    {
     "name": "stdout",
     "output_type": "stream",
     "text": [
      "None\n"
     ]
    }
   ],
   "source": [
    "#overview = About_section.find_element(by=By.XPATH, value = '/p')\n",
    "print(overview.get_attribute('text'))"
   ]
  },
  {
   "cell_type": "code",
   "execution_count": 87,
   "id": "7d6ef333",
   "metadata": {},
   "outputs": [
    {
     "name": "stdout",
     "output_type": "stream",
     "text": [
      "None\n"
     ]
    }
   ],
   "source": [
    "print(website.get_attribute('text'))"
   ]
  },
  {
   "cell_type": "code",
   "execution_count": null,
   "id": "6074c304",
   "metadata": {},
   "outputs": [],
   "source": [
    "//*[@id=\"ember50\"]/section/p"
   ]
  }
 ],
 "metadata": {
  "kernelspec": {
   "display_name": "Python 3 (ipykernel)",
   "language": "python",
   "name": "python3"
  },
  "language_info": {
   "codemirror_mode": {
    "name": "ipython",
    "version": 3
   },
   "file_extension": ".py",
   "mimetype": "text/x-python",
   "name": "python",
   "nbconvert_exporter": "python",
   "pygments_lexer": "ipython3",
   "version": "3.7.9"
  }
 },
 "nbformat": 4,
 "nbformat_minor": 5
}
